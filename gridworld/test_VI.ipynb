{
 "cells": [
  {
   "cell_type": "code",
   "execution_count": 1,
   "metadata": {},
   "outputs": [],
   "source": [
    "from gridworld import *\n",
    "import numpy as np\n"
   ]
  },
  {
   "cell_type": "code",
   "execution_count": 2,
   "metadata": {},
   "outputs": [
    {
     "name": "stdout",
     "output_type": "stream",
     "text": [
      "[[0, 2, 4, 6, 8, 10, 12, 14, 16, 18, 20, 22, 24, 26, 28, 30, 32, 34, 36, 38, 40, 42, 44, 46, 48], [0, 4, 8, 12, 16, 20, 24, 28, 32, 36, 40, 44, 48, 52, 56, 60, 64, 68, 72, 76, 80, 84, 88, 92, 96]]\n"
     ]
    },
    {
     "ename": "IndexError",
     "evalue": "list index out of range",
     "output_type": "error",
     "traceback": [
      "\u001b[1;31m---------------------------------------------------------------------------\u001b[0m",
      "\u001b[1;31mIndexError\u001b[0m                                Traceback (most recent call last)",
      "Cell \u001b[1;32mIn[2], line 7\u001b[0m\n\u001b[0;32m      4\u001b[0m obstacles \u001b[38;5;241m=\u001b[39m [(\u001b[38;5;241m1\u001b[39m,\u001b[38;5;241m1\u001b[39m),(\u001b[38;5;241m2\u001b[39m,\u001b[38;5;241m1\u001b[39m),(\u001b[38;5;241m1\u001b[39m,\u001b[38;5;241m3\u001b[39m),(\u001b[38;5;241m2\u001b[39m,\u001b[38;5;241m3\u001b[39m)]\n\u001b[0;32m      5\u001b[0m hazards \u001b[38;5;241m=\u001b[39m [(\u001b[38;5;241m4\u001b[39m,\u001b[38;5;241m0\u001b[39m),(\u001b[38;5;241m4\u001b[39m,\u001b[38;5;241m1\u001b[39m),(\u001b[38;5;241m4\u001b[39m,\u001b[38;5;241m2\u001b[39m),(\u001b[38;5;241m4\u001b[39m,\u001b[38;5;241m3\u001b[39m),(\u001b[38;5;241m4\u001b[39m,\u001b[38;5;241m4\u001b[39m)]\n\u001b[1;32m----> 7\u001b[0m world \u001b[38;5;241m=\u001b[39m \u001b[43mgridworld\u001b[49m\u001b[43m(\u001b[49m\u001b[43mworld_size\u001b[49m\u001b[43m,\u001b[49m\u001b[38;5;241;43m2\u001b[39;49m\u001b[43m,\u001b[49m\u001b[43mstarting_point\u001b[49m\u001b[43m,\u001b[49m\u001b[43mdestinations\u001b[49m\u001b[43m,\u001b[49m\u001b[43mobstacles\u001b[49m\u001b[43m,\u001b[49m\u001b[43mhazards\u001b[49m\u001b[43m,\u001b[49m\u001b[43mp_e\u001b[49m\u001b[38;5;241;43m=\u001b[39;49m\u001b[38;5;241;43m0.5\u001b[39;49m\u001b[43m,\u001b[49m\u001b[43mdest_rewards\u001b[49m\u001b[38;5;241;43m=\u001b[39;49m\u001b[43m[\u001b[49m\u001b[38;5;241;43m1\u001b[39;49m\u001b[43m,\u001b[49m\u001b[38;5;241;43m1\u001b[39;49m\u001b[43m]\u001b[49m\u001b[43m,\u001b[49m\u001b[43mhaz_rewards\u001b[49m\u001b[38;5;241;43m=\u001b[39;49m\u001b[38;5;241;43m-\u001b[39;49m\u001b[38;5;241;43m1\u001b[39;49m\u001b[43m,\u001b[49m\u001b[43mdest_names\u001b[49m\u001b[38;5;241;43m=\u001b[39;49m\u001b[43m[\u001b[49m\u001b[38;5;124;43m'\u001b[39;49m\u001b[38;5;124;43mdiddy reese\u001b[39;49m\u001b[38;5;124;43m'\u001b[39;49m\u001b[43m,\u001b[49m\u001b[38;5;124;43m'\u001b[39;49m\u001b[38;5;124;43msafron rose\u001b[39;49m\u001b[38;5;124;43m'\u001b[39;49m\u001b[43m]\u001b[49m\u001b[43m,\u001b[49m\u001b[43mgamma\u001b[49m\u001b[38;5;241;43m=\u001b[39;49m\u001b[38;5;241;43m.7\u001b[39;49m\u001b[43m)\u001b[49m\n\u001b[0;32m      9\u001b[0m \u001b[38;5;66;03m# world.print_policy_map()\u001b[39;00m\n",
      "File \u001b[1;32md:\\Documents\\UCLA\\ECE209S-Mehta\\gridworld\\ECE209S-gridworld\\gridworld.py:85\u001b[0m, in \u001b[0;36mgridworld.__init__\u001b[1;34m(self, size, n_agensts, agents_start, destinations, obstacles, hazards, p_e, dest_rewards, haz_rewards, dest_names, gamma, epsilon)\u001b[0m\n\u001b[0;32m     82\u001b[0m         haz_rewards \u001b[38;5;241m=\u001b[39m \u001b[38;5;241m-\u001b[39m\u001b[38;5;241m1\u001b[39m\n\u001b[0;32m     84\u001b[0m \u001b[38;5;66;03m# Initialize/calc grid states\u001b[39;00m\n\u001b[1;32m---> 85\u001b[0m \u001b[38;5;28;43mself\u001b[39;49m\u001b[38;5;241;43m.\u001b[39;49m\u001b[43mget_states\u001b[49m\u001b[43m(\u001b[49m\u001b[43mdestinations\u001b[49m\u001b[43m,\u001b[49m\u001b[43mobstacles\u001b[49m\u001b[43m,\u001b[49m\u001b[43mhazards\u001b[49m\u001b[43m,\u001b[49m\u001b[43mdest_rewards\u001b[49m\u001b[43m,\u001b[49m\u001b[43mhaz_rewards\u001b[49m\u001b[43m,\u001b[49m\u001b[43mdest_names\u001b[49m\u001b[43m)\u001b[49m\n\u001b[0;32m     87\u001b[0m \u001b[38;5;28;01mif\u001b[39;00m \u001b[38;5;28mlen\u001b[39m(agent_start) \u001b[38;5;241m==\u001b[39m \u001b[38;5;241m2\u001b[39m:\n\u001b[0;32m     88\u001b[0m     \u001b[38;5;66;03m# Check start coord to be in bounds\u001b[39;00m\n\u001b[0;32m     89\u001b[0m     s_start \u001b[38;5;241m=\u001b[39m \u001b[38;5;28mself\u001b[39m\u001b[38;5;241m.\u001b[39mcoord2state(agent_start)\n",
      "File \u001b[1;32md:\\Documents\\UCLA\\ECE209S-Mehta\\gridworld\\ECE209S-gridworld\\gridworld.py:159\u001b[0m, in \u001b[0;36mgridworld.get_states\u001b[1;34m(self, destinations, obstacles, hazards, dest_rewards, haz_rewards, dest_names)\u001b[0m\n\u001b[0;32m    157\u001b[0m \u001b[38;5;28mprint\u001b[39m(indices)\n\u001b[0;32m    158\u001b[0m i0 \u001b[38;5;241m=\u001b[39m indices[\u001b[38;5;241m0\u001b[39m]\n\u001b[1;32m--> 159\u001b[0m states \u001b[38;5;241m=\u001b[39m [[grid_states[i]] \u001b[38;5;28;01mfor\u001b[39;00m i \u001b[38;5;129;01min\u001b[39;00m i0]\n\u001b[0;32m    160\u001b[0m \u001b[38;5;28;01mfor\u001b[39;00m ii \u001b[38;5;129;01min\u001b[39;00m indices[\u001b[38;5;241m1\u001b[39m:]:\n\u001b[0;32m    161\u001b[0m     \u001b[38;5;28;01mfor\u001b[39;00m i \u001b[38;5;129;01min\u001b[39;00m i0:\n",
      "File \u001b[1;32md:\\Documents\\UCLA\\ECE209S-Mehta\\gridworld\\ECE209S-gridworld\\gridworld.py:159\u001b[0m, in \u001b[0;36m<listcomp>\u001b[1;34m(.0)\u001b[0m\n\u001b[0;32m    157\u001b[0m \u001b[38;5;28mprint\u001b[39m(indices)\n\u001b[0;32m    158\u001b[0m i0 \u001b[38;5;241m=\u001b[39m indices[\u001b[38;5;241m0\u001b[39m]\n\u001b[1;32m--> 159\u001b[0m states \u001b[38;5;241m=\u001b[39m [[\u001b[43mgrid_states\u001b[49m\u001b[43m[\u001b[49m\u001b[43mi\u001b[49m\u001b[43m]\u001b[49m] \u001b[38;5;28;01mfor\u001b[39;00m i \u001b[38;5;129;01min\u001b[39;00m i0]\n\u001b[0;32m    160\u001b[0m \u001b[38;5;28;01mfor\u001b[39;00m ii \u001b[38;5;129;01min\u001b[39;00m indices[\u001b[38;5;241m1\u001b[39m:]:\n\u001b[0;32m    161\u001b[0m     \u001b[38;5;28;01mfor\u001b[39;00m i \u001b[38;5;129;01min\u001b[39;00m i0:\n",
      "\u001b[1;31mIndexError\u001b[0m: list index out of range"
     ]
    }
   ],
   "source": [
    "world_size = (5,5)\n",
    "starting_point = (2,4)\n",
    "destinations = [(2,2),(2,0)]\n",
    "obstacles = [(1,1),(2,1),(1,3),(2,3)]\n",
    "hazards = [(4,0),(4,1),(4,2),(4,3),(4,4)]\n",
    "\n",
    "world = gridworld(world_size,2,starting_point,destinations,obstacles,hazards,p_e=0.5,dest_rewards=[1,1],haz_rewards=-1,dest_names=['diddy reese','safron rose'],gamma=.7)\n",
    "\n",
    "# world.print_policy_map()"
   ]
  },
  {
   "cell_type": "code",
   "execution_count": null,
   "metadata": {},
   "outputs": [],
   "source": []
  }
 ],
 "metadata": {
  "kernelspec": {
   "display_name": "davi_env",
   "language": "python",
   "name": "python3"
  },
  "language_info": {
   "codemirror_mode": {
    "name": "ipython",
    "version": 3
   },
   "file_extension": ".py",
   "mimetype": "text/x-python",
   "name": "python",
   "nbconvert_exporter": "python",
   "pygments_lexer": "ipython3",
   "version": "3.9.18"
  }
 },
 "nbformat": 4,
 "nbformat_minor": 2
}
