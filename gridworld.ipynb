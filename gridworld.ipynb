{
 "cells": [
  {
   "cell_type": "markdown",
   "metadata": {},
   "source": [
    "Initialize gridworld for the problem statement"
   ]
  },
  {
   "cell_type": "code",
   "execution_count": 2,
   "metadata": {},
   "outputs": [],
   "source": [
    "from gridworld import *\n",
    "\n",
    "world = gridworld((5,5),(2,4),[(2,2),(2,0)],[(1,1),(2,1),(1,3),(2,3)],[(4,0),(4,1),(4,2),(4,3),(4,4)],p_e=0.2,dest_rewards=[1,10],haz_rewards=-1,dest_names=['diddy reese','safron rose'])"
   ]
  },
  {
   "cell_type": "markdown",
   "metadata": {},
   "source": [
    "Hardcode trajectory to \"Diddy Reese\" for testing"
   ]
  },
  {
   "cell_type": "code",
   "execution_count": 2,
   "metadata": {},
   "outputs": [
    {
     "name": "stdout",
     "output_type": "stream",
     "text": [
      "start: state(label='W', coord=array([2, 4]))\n",
      "o = 2\n",
      "1: state(label='X', coord=array([3, 4]))\n",
      "o = 3\n",
      "2: state(label='S', coord=array([3, 3]))\n",
      "o = 2\n",
      "3: state(label='N', coord=array([3, 2]))\n",
      "o = 2\n",
      "end: destination(label='M', coord=array([2, 2]), reward=1, destination_name='diddy reese')\n",
      "o = 0\n"
     ]
    }
   ],
   "source": [
    "print(\"start:\",world.agent.state)\n",
    "print(\"o =\",world.o)\n",
    "world.update_state(RIGHT)\n",
    "print(\"1:\",world.agent.state)\n",
    "print(\"o =\",world.o)\n",
    "world.update_state(DOWN)\n",
    "print(\"2:\",world.agent.state)\n",
    "print(\"o =\",world.o)\n",
    "world.update_state(DOWN)\n",
    "print(\"3:\",world.agent.state)\n",
    "print(\"o =\",world.o)\n",
    "world.update_state(LEFT)\n",
    "print(\"end:\",world.agent.state)\n",
    "print(\"o =\",world.o)"
   ]
  },
  {
   "cell_type": "code",
   "execution_count": 11,
   "metadata": {},
   "outputs": [
    {
     "name": "stdout",
     "output_type": "stream",
     "text": [
      "[[0.         0.         1.         0.         0.         0.\n",
      "  0.         0.         0.         0.         0.         0.\n",
      "  1.         0.         0.         0.         0.         0.\n",
      "  0.         0.         0.         0.         0.         0.\n",
      "  0.        ]\n",
      " [0.         0.61803399 0.         0.61803399 0.         0.\n",
      "  0.58578644 1.         0.58578644 0.         0.         0.61803399\n",
      "  0.         0.61803399 0.         0.         0.04560492 0.5\n",
      "  0.04560492 0.         0.         0.         0.         0.\n",
      "  0.        ]\n",
      " [0.65685425 0.38196601 0.         0.38196601 0.65685425 0.76393202\n",
      "  0.41421356 0.         0.41421356 0.76393202 0.65685425 0.38196601\n",
      "  0.         0.38196601 0.65685425 0.23971817 0.95439508 0.5\n",
      "  0.95439508 0.23971817 0.         0.10039542 0.33333333 0.10039542\n",
      "  0.        ]\n",
      " [0.34314575 0.         0.         0.         0.34314575 0.23606798\n",
      "  0.         0.         0.         0.23606798 0.34314575 0.\n",
      "  0.         0.         0.34314575 0.76028183 0.         0.\n",
      "  0.         0.76028183 0.53475752 0.89960458 0.66666667 0.89960458\n",
      "  0.53475752]\n",
      " [0.         0.         0.         0.         0.         0.\n",
      "  0.         0.         0.         0.         0.         0.\n",
      "  0.         0.         0.         0.         0.         0.\n",
      "  0.         0.         0.46524248 0.         0.         0.\n",
      "  0.46524248]]\n"
     ]
    }
   ],
   "source": [
    "print(world.p_o_arr)\n",
    "# probability of output given state (no. of outputs, no. of states)\n",
    "# probability of outputs for a given state should be 1 (the following line should output 'True')\n",
    "(world.p_o_arr.sum(axis=0) == np.ones(world.p_o_arr.shape)).all()\n",
    "# In this case the output matrix is identical across all possible actions for a given state"
   ]
  }
 ],
 "metadata": {
  "kernelspec": {
   "display_name": "Python 3",
   "language": "python",
   "name": "python3"
  },
  "language_info": {
   "codemirror_mode": {
    "name": "ipython",
    "version": 3
   },
   "file_extension": ".py",
   "mimetype": "text/x-python",
   "name": "python",
   "nbconvert_exporter": "python",
   "pygments_lexer": "ipython3",
   "version": "3.10.6"
  }
 },
 "nbformat": 4,
 "nbformat_minor": 2
}
