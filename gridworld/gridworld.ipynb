{
 "cells": [
  {
   "cell_type": "markdown",
   "metadata": {},
   "source": [
    "Initialize gridworld for the problem statement"
   ]
  },
  {
   "cell_type": "code",
   "execution_count": 1,
   "metadata": {},
   "outputs": [],
   "source": [
    "from gridworld import *\n",
    "\n",
    "world = gridworld((5,5),(2,4),[(2,2),(2,0)],[(1,1),(2,1),(1,3),(2,3)],[(4,0),(4,1),(4,2),(4,3),(4,4)],p_e=0.2,dest_rewards=[1,10],haz_rewards=-1,dest_names=['diddy reese','safron rose'])"
   ]
  },
  {
   "cell_type": "markdown",
   "metadata": {},
   "source": [
    "Hardcode trajectory to \"Diddy Reese\" for testing"
   ]
  },
  {
   "cell_type": "code",
   "execution_count": 2,
   "metadata": {},
   "outputs": [
    {
     "name": "stdout",
     "output_type": "stream",
     "text": [
      "start: state(label='W', coord=array([2, 4]))\n",
      "o = 2\n",
      "1: state(label='X', coord=array([3, 4]))\n",
      "o = 3\n",
      "2: state(label='S', coord=array([3, 3]))\n",
      "o = 2\n",
      "3: state(label='N', coord=array([3, 2]))\n",
      "o = 2\n",
      "end: destination(label='M', coord=array([2, 2]), reward=1, destination_name='diddy reese')\n",
      "o = 0\n"
     ]
    }
   ],
   "source": [
    "print(\"start:\",world.agent.state)\n",
    "print(\"o =\",world.o)\n",
    "world.update_state(RIGHT)\n",
    "print(\"1:\",world.agent.state)\n",
    "print(\"o =\",world.o)\n",
    "world.update_state(DOWN)\n",
    "print(\"2:\",world.agent.state)\n",
    "print(\"o =\",world.o)\n",
    "world.update_state(DOWN)\n",
    "print(\"3:\",world.agent.state)\n",
    "print(\"o =\",world.o)\n",
    "world.update_state(LEFT)\n",
    "print(\"end:\",world.agent.state)\n",
    "print(\"o =\",world.o)"
   ]
  },
  {
   "cell_type": "code",
   "execution_count": null,
   "metadata": {},
   "outputs": [],
   "source": []
  }
 ],
 "metadata": {
  "kernelspec": {
   "display_name": "davi_env",
   "language": "python",
   "name": "python3"
  },
  "language_info": {
   "codemirror_mode": {
    "name": "ipython",
    "version": 3
   },
   "file_extension": ".py",
   "mimetype": "text/x-python",
   "name": "python",
   "nbconvert_exporter": "python",
   "pygments_lexer": "ipython3",
   "version": "3.9.18"
  }
 },
 "nbformat": 4,
 "nbformat_minor": 2
}
