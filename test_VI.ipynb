{
 "cells": [
  {
   "cell_type": "code",
   "execution_count": 1,
   "metadata": {},
   "outputs": [],
   "source": [
    "from gridworld import *\n",
    "import numpy as np\n"
   ]
  },
  {
   "cell_type": "code",
   "execution_count": 3,
   "metadata": {},
   "outputs": [
    {
     "name": "stdout",
     "output_type": "stream",
     "text": [
      "[['↓' '←' '←' '←' '←']\n",
      " ['↓' 'o' 'o' '↓' '←']\n",
      " ['→' '→' 'o' '←' '←']\n",
      " ['↓' 'o' 'o' '↓' '←']\n",
      " ['→' '→' 'o' '←' '←']]\n"
     ]
    }
   ],
   "source": [
    "world_size = (5,5)\n",
    "starting_point = (2,4)\n",
    "destinations = [(2,2),(2,0)]\n",
    "obstacles = [(1,1),(2,1),(1,3),(2,3)]\n",
    "hazards = [(4,0),(4,1),(4,2),(4,3),(4,4)]\n",
    "\n",
    "world = gridworld(world_size,starting_point,destinations,obstacles,hazards,p_e=0.4,dest_rewards=[1,10],haz_rewards=-10,dest_names=['diddy reese','safron rose'],gamma=.7)\n",
    "\n",
    "world.print_policy_map()"
   ]
  }
 ],
 "metadata": {
  "kernelspec": {
   "display_name": "davi_env",
   "language": "python",
   "name": "python3"
  },
  "language_info": {
   "codemirror_mode": {
    "name": "ipython",
    "version": 3
   },
   "file_extension": ".py",
   "mimetype": "text/x-python",
   "name": "python",
   "nbconvert_exporter": "python",
   "pygments_lexer": "ipython3",
   "version": "3.9.18"
  }
 },
 "nbformat": 4,
 "nbformat_minor": 2
}
