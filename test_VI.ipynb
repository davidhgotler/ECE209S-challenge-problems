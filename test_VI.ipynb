{
 "cells": [
  {
   "cell_type": "code",
   "execution_count": 1,
   "metadata": {},
   "outputs": [],
   "source": [
    "from gridworld import *\n",
    "import numpy as np\n"
   ]
  },
  {
   "cell_type": "code",
   "execution_count": 2,
   "metadata": {},
   "outputs": [
    {
     "name": "stdout",
     "output_type": "stream",
     "text": [
      "[['↓' '←' '←' '←' '←' '↓']\n",
      " ['↓' 'o' 'o' '↓' '←' '↓']\n",
      " ['↓' '→' 'o' '↓' '←' '↓']\n",
      " ['↓' 'o' 'o' '↓' '←' '↓']\n",
      " ['→' '→' 'o' '←' '←' 'o']]\n",
      "[[24. 25. 26. 27. 28. 29.]\n",
      " [18. 19. 20. 21. 22. 23.]\n",
      " [12. 13. 14. 15. 16. 17.]\n",
      " [ 6.  7.  8.  9. 10. 11.]\n",
      " [ 0.  1.  2.  3.  4.  5.]]\n"
     ]
    }
   ],
   "source": [
    "world_size = (6,5)\n",
    "starting_point = (2,4)\n",
    "destinations = [(2,2),(2,0)]\n",
    "obstacles = [(1,1),(2,1),(1,3),(2,3)]\n",
    "hazards = [(4,0),(4,1),(4,2),(4,3),(4,4)]\n",
    "\n",
    "world = gridworld(world_size,starting_point,destinations,obstacles,hazards,p_e=0.4,dest_rewards=[1,10],haz_rewards=-10,dest_names=['diddy reese','safron rose'],gamma=.7)\n",
    "\n",
    "world.print_policy_map()\n",
    "world.states"
   ]
  },
  {
   "cell_type": "code",
   "execution_count": null,
   "metadata": {},
   "outputs": [],
   "source": []
  }
 ],
 "metadata": {
  "kernelspec": {
   "display_name": "davi_env",
   "language": "python",
   "name": "python3"
  },
  "language_info": {
   "codemirror_mode": {
    "name": "ipython",
    "version": 3
   },
   "file_extension": ".py",
   "mimetype": "text/x-python",
   "name": "python",
   "nbconvert_exporter": "python",
   "pygments_lexer": "ipython3",
   "version": "3.9.18"
  }
 },
 "nbformat": 4,
 "nbformat_minor": 2
}
